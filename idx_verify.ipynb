{
 "cells": [
  {
   "cell_type": "code",
   "execution_count": 1,
   "metadata": {},
   "outputs": [],
   "source": [
    "from RzLinear import RzLinearFunction\n",
    "import torch\n",
    "from RzLinear import RzLinear \n",
    "import torch.nn as nn\n",
    "import numpy as np\n",
    "import matplotlib.pyplot as plt\n",
    "import rz_linear"
   ]
  },
  {
   "cell_type": "code",
   "execution_count": 2,
   "metadata": {},
   "outputs": [],
   "source": [
    "TILED = True\n",
    "input_dim = 100\n",
    "output_dim = 100\n",
    "weight_size = 1000\n",
    "chunk_size = 2\n",
    "r = np.random.RandomState(1024)\n",
    "x = r.randint(0, 2038074743, (50,))\n",
    "x = x + 1*(x%2==0);\n",
    "random_numbers = torch.from_numpy(np.concatenate([np.array([2038074743]), x])).long().cuda(0) # set of 50 random numbers to use"
   ]
  },
  {
   "cell_type": "code",
   "execution_count": 3,
   "metadata": {},
   "outputs": [],
   "source": [
    "idx =rz_linear.get_idx(random_numbers, input_dim, output_dim, chunk_size, weight_size, TILED)"
   ]
  },
  {
   "cell_type": "code",
   "execution_count": 4,
   "metadata": {},
   "outputs": [],
   "source": [
    "#hashed_weight = nn.Parameter(torch.from_numpy(np.arange(weight_size).astype(np.float32))).to(\"cuda:0\")\n",
    "hashed_weight = nn.Parameter(torch.rand((weight_size))).to(\"cuda:0\")"
   ]
  },
  {
   "cell_type": "code",
   "execution_count": 5,
   "metadata": {},
   "outputs": [],
   "source": [
    "weight = nn.Parameter(torch.clone(hashed_weight[idx])).cuda(0)"
   ]
  },
  {
   "cell_type": "code",
   "execution_count": 6,
   "metadata": {},
   "outputs": [
    {
     "data": {
      "text/plain": [
       "tensor(1.3351e-05, device='cuda:0', grad_fn=<MaxBackward1>)"
      ]
     },
     "execution_count": 6,
     "metadata": {},
     "output_type": "execute_result"
    }
   ],
   "source": [
    "def forward_actual(inp, wt):\n",
    "    return torch.mm(inp, wt)\n",
    "\n",
    "def forward_rz(inp, hwt):\n",
    "    return RzLinearFunction.forwardproxy(hwt, inp ,random_numbers, input_dim, output_dim, chunk_size, TILED)\n",
    "\n",
    "input_v = nn.Parameter(torch.rand((5,input_dim)), requires_grad=True).cuda(0)\n",
    "A = forward_actual(input_v, weight)\n",
    "B = forward_rz(input_v, hashed_weight)\n",
    "torch.max(torch.abs(A - B))"
   ]
  },
  {
   "cell_type": "code",
   "execution_count": 7,
   "metadata": {},
   "outputs": [],
   "source": [
    "def forward_actual(inp, wt):\n",
    "    X = torch.matmul(inp, wt)\n",
    "    return torch.sum(X)\n",
    "\n",
    "def forward_rz(inp, hwt):\n",
    "    X= RzLinearFunction.forwardproxy(hwt, inp ,random_numbers, input_dim, output_dim, chunk_size, TILED)\n",
    "    return torch.sum(X)\n",
    "\n",
    "def backward_actual(inp, wt):\n",
    "    A = forward_actual(inp, wt)\n",
    "    A.backward()\n",
    "    return wt.grad\n",
    "\n",
    "\n",
    "def backward_rz(inp, hwt):\n",
    "    B = forward_rz(inp, hwt)\n",
    "    grad = torch.ones((inp.shape[0], output_dim)).cuda(0)\n",
    "    in_grad, wt_grad = RzLinearFunction.backwardproxy(grad, hwt, inp, random_numbers, input_dim, output_dim, chunk_size, TILED)\n",
    "    return in_grad, wt_grad"
   ]
  },
  {
   "cell_type": "code",
   "execution_count": 8,
   "metadata": {},
   "outputs": [],
   "source": [
    "input_v = nn.Parameter(torch.rand((5,input_dim)), requires_grad=True).cuda(0)\n",
    "in_grad, wt_grad = backward_rz(input_v, hashed_weight)\n",
    "wt_grad_2 = backward_actual(input_v, weight)"
   ]
  },
  {
   "cell_type": "code",
   "execution_count": 9,
   "metadata": {},
   "outputs": [
    {
     "name": "stdout",
     "output_type": "stream",
     "text": [
      "tensor(1.1444e-05, device='cuda:0')\n"
     ]
    }
   ],
   "source": [
    "wt_grad_actual_p = torch.zeros_like(hashed_weight).cuda(0)\n",
    "wt_grad_actual_p.scatter_add_(0, idx.reshape(-1), wt_grad_2.reshape(-1))\n",
    "print(torch.max(torch.abs(wt_grad_actual_p - wt_grad)))"
   ]
  },
  {
   "cell_type": "code",
   "execution_count": null,
   "metadata": {},
   "outputs": [],
   "source": []
  },
  {
   "cell_type": "code",
   "execution_count": null,
   "metadata": {},
   "outputs": [],
   "source": []
  }
 ],
 "metadata": {
  "kernelspec": {
   "display_name": "Python 3",
   "language": "python",
   "name": "python3"
  },
  "language_info": {
   "codemirror_mode": {
    "name": "ipython",
    "version": 3
   },
   "file_extension": ".py",
   "mimetype": "text/x-python",
   "name": "python",
   "nbconvert_exporter": "python",
   "pygments_lexer": "ipython3",
   "version": "3.8.3"
  }
 },
 "nbformat": 4,
 "nbformat_minor": 4
}
